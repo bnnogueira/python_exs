{
  "nbformat": 4,
  "nbformat_minor": 0,
  "metadata": {
    "colab": {
      "provenance": [],
      "authorship_tag": "ABX9TyM+anpbOXfaHNCaqIPSpIcr",
      "include_colab_link": true
    },
    "kernelspec": {
      "name": "python3",
      "display_name": "Python 3"
    },
    "language_info": {
      "name": "python"
    }
  },
  "cells": [
    {
      "cell_type": "markdown",
      "metadata": {
        "id": "view-in-github",
        "colab_type": "text"
      },
      "source": [
        "<a href=\"https://colab.research.google.com/github/bnnogueira/python_exs/blob/main/Exercicios02.ipynb\" target=\"_parent\"><img src=\"https://colab.research.google.com/assets/colab-badge.svg\" alt=\"Open In Colab\"/></a>"
      ]
    },
    {
      "cell_type": "markdown",
      "source": [
        "Aqui vão 10 exercícios práticos para você treinar análise de dados com essa planilha no Python (pandas e numpy):\n",
        "\n",
        "🧮 Estatística e exploração de dados\n",
        "\n",
        "    1 - Exiba as 5 primeiras e 5 últimas linhas do DataFrame. - ✅\n",
        "\n",
        "    2 - Mostre o total de vendas (Valor Final) de todo o período. - ✅\n",
        "\n",
        "    3 - Calcule a média, mediana e desvio-padrão dos valores finais. - ✅\n",
        "\n",
        "    4 - Descubra qual produto teve a maior e a menor quantidade vendida. - ✅\n",
        "\n",
        "    5 - Liste os 5 produtos mais vendidos (em quantidade total). - ✅\n",
        "\n",
        "📆 Análise temporal\n",
        "\n",
        "    6 - Agrupe as vendas por mês e calcule o total de “Valor Final” por mês.\n",
        "\n",
        "    7 - Identifique o mês com o maior e o menor faturamento.\n",
        "\n",
        "    8 - Crie um gráfico de linha mostrando a evolução do faturamento mensal.\n",
        "\n",
        "🏬 Comparação entre lojas\n",
        "\n",
        "    9 - Calcule o total de vendas por loja (ID Loja) e descubra qual mais vendeu.\n",
        "\n",
        "    10 - Mostre o produto mais vendido em cada loja."
      ],
      "metadata": {
        "id": "7KFLyGkUAUFj"
      }
    },
    {
      "cell_type": "code",
      "execution_count": null,
      "metadata": {
        "id": "nzAwC7hpAOCx"
      },
      "outputs": [],
      "source": [
        "# Importando bibliotecas\n",
        "import pandas as pd\n",
        "import numpy as np\n",
        "from rich.jupyter import display"
      ]
    },
    {
      "cell_type": "code",
      "source": [
        "# Lendo arquivo e transformando a tabela em um Dataframe\n",
        "vendas_lojas = pd.read_excel('Vendas.xlsx')\n",
        "table = pd.DataFrame(vendas_lojas)"
      ],
      "metadata": {
        "id": "cjYSsCD7Ais2"
      },
      "execution_count": null,
      "outputs": []
    },
    {
      "cell_type": "code",
      "source": [
        "# Visualizando as cinco primeiras e cinco últimas linhas do DataFrame\n",
        "print(table.head(5))\n",
        "print(table.tail(5))"
      ],
      "metadata": {
        "colab": {
          "base_uri": "https://localhost:8080/"
        },
        "id": "1lPe6ss3BrtX",
        "outputId": "07bc143b-93bb-464c-ccbd-d21ed8ed9a38"
      },
      "execution_count": null,
      "outputs": [
        {
          "output_type": "stream",
          "name": "stdout",
          "text": [
            "   Código Venda       Data             ID Loja         Produto  Quantidade  \\\n",
            "0             1 2019-01-01  Iguatemi Esplanada  Sapato Estampa           1   \n",
            "1             1 2019-01-01  Iguatemi Esplanada        Camiseta           2   \n",
            "2             1 2019-01-01  Iguatemi Esplanada   Sapato Xadrez           1   \n",
            "3             2 2019-01-02      Norte Shopping         Relógio           3   \n",
            "4             2 2019-01-02      Norte Shopping    Chinelo Liso           1   \n",
            "\n",
            "   Valor Unitário  Valor Final  \n",
            "0             358          358  \n",
            "1             180          360  \n",
            "2             368          368  \n",
            "3             200          600  \n",
            "4              71           71  \n",
            "       Código Venda       Data              ID Loja            Produto  \\\n",
            "93905         65012 2019-11-30  Shopping Vila Velha     Mochila Xadrez   \n",
            "93906         65013 2019-11-30    Ribeirão Shopping  Pulseira Listrado   \n",
            "93907         65013 2019-11-30    Ribeirão Shopping     Cueca Listrado   \n",
            "93908         65014 2019-11-30     Shopping Morumbi     Pulseira Linho   \n",
            "93909         65014 2019-11-30     Shopping Morumbi      Casaco Xadrez   \n",
            "\n",
            "       Quantidade  Valor Unitário  Valor Final  \n",
            "93905           2             283          566  \n",
            "93906           2              79          158  \n",
            "93907           3              67          201  \n",
            "93908           5             114          570  \n",
            "93909           4             259         1036  \n"
          ]
        }
      ]
    },
    {
      "cell_type": "code",
      "source": [
        "# Visualizando o valor total de vendas\n",
        "vendas_totais = table['Valor Final'].sum()\n",
        "print(f\"\\nValor total de vendas de todas as filiais: R${vendas_totais}\\n\")"
      ],
      "metadata": {
        "colab": {
          "base_uri": "https://localhost:8080/"
        },
        "id": "ewXmdcycBwte",
        "outputId": "fbc67707-95fd-4d3b-93ed-946717d1782f"
      },
      "execution_count": null,
      "outputs": [
        {
          "output_type": "stream",
          "name": "stdout",
          "text": [
            "\n",
            "Valor total de vendas de todas as filiais: R$38959752\n",
            "\n"
          ]
        }
      ]
    },
    {
      "cell_type": "code",
      "source": [
        "# Calculando a média, mediana e o desvio padrão\n",
        "mean_vendas = table['Valor Final'].mean()\n",
        "median_vendas = table['Valor Final'].median()\n",
        "std_vendas = table['Valor Final'].std(ddof=0)\n",
        "print(f\"Média: {mean_vendas:.2f}\\n\")\n",
        "print(f\"Mediana: {median_vendas}\\n\")\n",
        "print(f\"Desvio Padrão: {std_vendas:.2f}\\n\")"
      ],
      "metadata": {
        "colab": {
          "base_uri": "https://localhost:8080/"
        },
        "id": "KtaShBLSBzdN",
        "outputId": "beb90ac2-80e3-438c-a6ff-7a3a8940036d"
      },
      "execution_count": null,
      "outputs": [
        {
          "output_type": "stream",
          "name": "stdout",
          "text": [
            "Média: 414.86\n",
            "\n",
            "Mediana: 274.0\n",
            "\n",
            "Desvio Padrão: 434.84\n",
            "\n"
          ]
        }
      ]
    },
    {
      "cell_type": "code",
      "source": [
        "# Calculando o produto mais vendido\n",
        "more_sales = table.groupby('Produto')['Quantidade'].sum()\n",
        "top_one = more_sales.idxmax()\n",
        "print(f\"Produto mais vendido: {top_one}\")\n",
        "print(f\"Quantidade: {more_sales[top_one]}\\n\")"
      ],
      "metadata": {
        "colab": {
          "base_uri": "https://localhost:8080/"
        },
        "id": "TJg7x79gB1z3",
        "outputId": "188c238f-fac5-4008-ba06-187fb8ad4760"
      },
      "execution_count": null,
      "outputs": [
        {
          "output_type": "stream",
          "name": "stdout",
          "text": [
            "Produto mais vendido: Bermuda Linho\n",
            "Quantidade: 1893\n",
            "\n"
          ]
        }
      ]
    },
    {
      "cell_type": "code",
      "source": [
        "# Calculando os cinco mais vendidos\n",
        "top_five = table.groupby('Produto')['Quantidade'].sum().sort_values(ascending=False).head(5)\n",
        "print(f\"Cinco produtos mais vendidos: {top_five}\\n\")"
      ],
      "metadata": {
        "colab": {
          "base_uri": "https://localhost:8080/"
        },
        "id": "Jxi0Nfr-B-sZ",
        "outputId": "6f9e055b-2273-4526-cbc3-275165b1c594"
      },
      "execution_count": null,
      "outputs": [
        {
          "output_type": "stream",
          "name": "stdout",
          "text": [
            "Cinco produtos mais vendidos: Produto\n",
            "Bermuda Linho    1893\n",
            "Mochila Liso     1868\n",
            "Short            1844\n",
            "Casaco Liso      1840\n",
            "Cueca            1837\n",
            "Name: Quantidade, dtype: int64\n",
            "\n"
          ]
        }
      ]
    },
    {
      "cell_type": "code",
      "source": [
        "# Calculando as vendas por mês\n",
        "table['ValorMes'] = table['Data'].dt.to_period('M')\n",
        "vendas_mensais = table.groupby('ValorMes')['Valor Final'].sum()\n",
        "print(f\"Vendas mensais: {vendas_mensais}\")"
      ],
      "metadata": {
        "colab": {
          "base_uri": "https://localhost:8080/"
        },
        "id": "94b2r31-CCtQ",
        "outputId": "01542465-690e-400d-d7d1-54b00467040e"
      },
      "execution_count": null,
      "outputs": [
        {
          "output_type": "stream",
          "name": "stdout",
          "text": [
            "Vendas mensais: ValorMes\n",
            "2019-01    3466475\n",
            "2019-02    3277556\n",
            "2019-03    3645476\n",
            "2019-04    3553712\n",
            "2019-05    3606569\n",
            "2019-06    3543010\n",
            "2019-07    3626556\n",
            "2019-08    3549014\n",
            "2019-09    3494615\n",
            "2019-10    3653183\n",
            "2019-11    3543586\n",
            "Freq: M, Name: Valor Final, dtype: int64\n"
          ]
        }
      ]
    }
  ]
}